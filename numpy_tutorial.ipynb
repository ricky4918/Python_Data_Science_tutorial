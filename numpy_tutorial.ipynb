{
 "cells": [
  {
   "cell_type": "markdown",
   "metadata": {},
   "source": [
    "# Numpy Cheat Sheet\n",
    "\n",
    "* numpy.array(object, dtype=None, *, copy=True, order='K', subok=False, ndmin=0, like=None)\n",
    "    * subok: bool, optional\n",
    "        * If True, then sub-classes will be passed-through, otherwise the returned array will be forced to be a base-class array (default).\n",
    "\n",
    "    * ndmin: int, optional\n",
    "        * Specifies the minimum number of dimensions that the resulting array should have. Ones will be prepended to the shape as needed to meet this requirement.\n",
    "\n",
    "* numpy.zeros(shape, dtype=float, order='C', *, like=None)\n"
   ]
  },
  {
   "cell_type": "markdown",
   "metadata": {},
   "source": [
    "# Basic Code"
   ]
  },
  {
   "cell_type": "code",
   "execution_count": 1,
   "metadata": {},
   "outputs": [],
   "source": [
    "import numpy as np"
   ]
  },
  {
   "cell_type": "code",
   "execution_count": 10,
   "metadata": {},
   "outputs": [
    {
     "name": "stdout",
     "output_type": "stream",
     "text": [
      "[1 2 3]\n",
      "[[9. 8. 7.]\n",
      " [6. 5. 4.]]\n"
     ]
    }
   ],
   "source": [
    "# Created 1 and 2 Dimentional Array\n",
    "a = np.array([1,2,3])\n",
    "b = np.array([[9.0,8.0,7.0], [6.0,5.0,4.0]])\n",
    "print(a)\n",
    "print(b)"
   ]
  },
  {
   "cell_type": "code",
   "execution_count": 24,
   "metadata": {},
   "outputs": [
    {
     "name": "stdout",
     "output_type": "stream",
     "text": [
      "1 2\n",
      "(2, 3)\n",
      "int32\n",
      "float64\n",
      "4byte\n",
      "8byte\n",
      "12 and 12\n"
     ]
    }
   ],
   "source": [
    "# Get Dimension\n",
    "print(a.ndim, b.ndim)\n",
    "\n",
    "# Get Shape\n",
    "print(b.shape)\n",
    "\n",
    "# Get Type\n",
    "print(a.dtype)\n",
    "print(b.dtype)\n",
    "\n",
    "# Get Size\n",
    "print(\"{}byte\".format(a.itemsize))\n",
    "print(\"{}byte\".format(b.itemsize))\n",
    "\n",
    "# Get total Size\n",
    "print(\"{} and {}\".format(a.size*a.itemsize, a.nbytes))"
   ]
  },
  {
   "cell_type": "markdown",
   "metadata": {},
   "source": [
    "# Accessing/Changing Specific elements, rows, columns, etc"
   ]
  },
  {
   "cell_type": "code",
   "execution_count": 27,
   "metadata": {},
   "outputs": [
    {
     "name": "stdout",
     "output_type": "stream",
     "text": [
      "[[ 1  2  3  4  5  6  7]\n",
      " [ 8  9 10 11 12 13 14]]\n",
      "(2, 7)\n"
     ]
    }
   ],
   "source": [
    "c = np.array([[1,2,3,4,5,6,7], [8,9,10,11,12,13,14]])\n",
    "print(c)\n",
    "print(c.shape)"
   ]
  },
  {
   "cell_type": "code",
   "execution_count": 41,
   "metadata": {},
   "outputs": [
    {
     "name": "stdout",
     "output_type": "stream",
     "text": [
      "20\n",
      "[1 2 5 4 5 6 7]\n",
      "[2 9]\n",
      "[2 4 6]\n",
      "[[ 1  2  5  4  5  6  7]\n",
      " [ 8  9  5 11 12 20 14]]\n",
      "[[ 1  2  5  4  5  6  7]\n",
      " [ 8  9  5 11 12 20 14]]\n"
     ]
    }
   ],
   "source": [
    "# Get a specific element [r, c]\n",
    "print(c[1,5])\n",
    "\n",
    "# Get a specific row\n",
    "print(c[0,:])\n",
    "\n",
    "# Get a specific column\n",
    "print(c[:,1])\n",
    "\n",
    "# Getting a little more fancy[Starindex:endindex:stepsize]\n",
    "print(c[0,1:6:2])\n",
    "\n",
    "# Change value\n",
    "c[1,5] = 20\n",
    "print(c)\n",
    "\n",
    "c[:,2] = 5\n",
    "print(c)"
   ]
  },
  {
   "cell_type": "markdown",
   "metadata": {},
   "source": [
    "# 3-D example"
   ]
  },
  {
   "cell_type": "code",
   "execution_count": 48,
   "metadata": {},
   "outputs": [
    {
     "name": "stdout",
     "output_type": "stream",
     "text": [
      "[[[1 2]\n",
      "  [3 4]]\n",
      "\n",
      " [[5 6]\n",
      "  [7 8]]]\n",
      "4\n",
      "[[9 9]\n",
      " [8 8]]\n"
     ]
    }
   ],
   "source": [
    "b = np.array([[[1,2],[3,4]], [[5,6], [7,8]]])\n",
    "print(b)\n",
    "\n",
    "# Get specific element(work outside in)\n",
    "print(b[0,1,1])\n",
    "\n",
    "# replace\n",
    "b[:,1,:] = [[9,9],[8,8]]\n",
    "print(b[:,1,:])"
   ]
  },
  {
   "cell_type": "markdown",
   "metadata": {},
   "source": [
    "# Initializing Different Types of Arrays"
   ]
  },
  {
   "cell_type": "code",
   "execution_count": null,
   "metadata": {},
   "outputs": [],
   "source": [
    "# ALL 0s matirx"
   ]
  }
 ],
 "metadata": {
  "kernelspec": {
   "display_name": "Python 3.9.12 ('myenv')",
   "language": "python",
   "name": "python3"
  },
  "language_info": {
   "codemirror_mode": {
    "name": "ipython",
    "version": 3
   },
   "file_extension": ".py",
   "mimetype": "text/x-python",
   "name": "python",
   "nbconvert_exporter": "python",
   "pygments_lexer": "ipython3",
   "version": "3.9.12"
  },
  "orig_nbformat": 4,
  "vscode": {
   "interpreter": {
    "hash": "d0cba66a251407c4fd3274a4451f5ba531487019d435e911d200eb38a157ba3e"
   }
  }
 },
 "nbformat": 4,
 "nbformat_minor": 2
}
