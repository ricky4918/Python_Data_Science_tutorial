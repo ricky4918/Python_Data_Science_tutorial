{
 "cells": [
  {
   "cell_type": "markdown",
   "metadata": {},
   "source": [
    "# Numpy Cheat Sheet\n",
    "\n",
    "* numpy.array(object, dtype=None, *, copy=True, order='K', subok=False, ndmin=0, like=None)\n",
    "    * subok: bool, optional\n",
    "        * If True, then sub-classes will be passed-through, otherwise the returned array will be forced to be a base-class array (default).\n",
    "\n",
    "    * ndmin: int, optional\n",
    "        * Specifies the minimum number of dimensions that the resulting array should have. Ones will be prepended to the shape as needed to meet this requirement.\n",
    "\n",
    "##### fill with 0,1 and any numbers\n",
    "* numpy.zeros(shape, dtype=float, order='C', *, like=None)\n",
    "* numpy.zeros_like(a, dtype=None, order='K', subok=True, shape=None)\n",
    "\n",
    "* numpy.ones(shape, dtype=None, order='C', *, like=None)\n",
    "* numpy.ones_like(a, dtype=None, order='K', subok=True, shape=None\n",
    "\n",
    "* numpy.full(shape, fill_value, dtype=None, order='C', *, like=None)\n",
    "* numpy.full_like(a, fill_value, dtype=None, order='K', subok=True, shape=None)\n",
    "\n",
    "##### fill with random number\n",
    "* numpy.random.rand(d0, d1, ..., dn) : r,c\n",
    "* numpy.random.random_sample(size=None)\n",
    "* numpy.random.randint(low, high=None, size=None, dtype='l')\n",
    "\n",
    "##### identity matrix\n",
    "* numpy.identity(n, dtype=None, *, like=None)\n",
    "\n",
    "#### Product of two arrays\n",
    "* numpy.matmul(x1, x2, /, out=None, *, casting='same_kind', order='K', dtype=None, subok=True[, signature, extobj, axes, axis]) = <ufunc 'matmul'>"
   ]
  },
  {
   "cell_type": "markdown",
   "metadata": {},
   "source": [
    "# Basic Code"
   ]
  },
  {
   "cell_type": "code",
   "execution_count": 108,
   "metadata": {},
   "outputs": [],
   "source": [
    "import numpy as np"
   ]
  },
  {
   "cell_type": "code",
   "execution_count": 109,
   "metadata": {},
   "outputs": [
    {
     "name": "stdout",
     "output_type": "stream",
     "text": [
      "[1 2 3]\n",
      "[[9. 8. 7.]\n",
      " [6. 5. 4.]]\n"
     ]
    }
   ],
   "source": [
    "# Created 1 and 2 Dimentional Array\n",
    "a = np.array([1,2,3])\n",
    "b = np.array([[9.0,8.0,7.0], [6.0,5.0,4.0]])\n",
    "print(a)\n",
    "print(b)\n"
   ]
  },
  {
   "cell_type": "code",
   "execution_count": 110,
   "metadata": {},
   "outputs": [
    {
     "name": "stdout",
     "output_type": "stream",
     "text": [
      "1 2\n",
      "(2, 3)\n",
      "int32\n",
      "float64\n",
      "4byte\n",
      "8byte\n",
      "12 and 12\n"
     ]
    }
   ],
   "source": [
    "# Get Dimension\n",
    "print(a.ndim, b.ndim)\n",
    "\n",
    "# Get Shape\n",
    "print(b.shape)\n",
    "\n",
    "# Get Type\n",
    "print(a.dtype)\n",
    "print(b.dtype)\n",
    "\n",
    "# Get Size\n",
    "print(\"{}byte\".format(a.itemsize))\n",
    "print(\"{}byte\".format(b.itemsize))\n",
    "\n",
    "# Get total Size\n",
    "print(\"{} and {}\".format(a.size*a.itemsize, a.nbytes))"
   ]
  },
  {
   "cell_type": "markdown",
   "metadata": {},
   "source": [
    "# Accessing/Changing Specific elements, rows, columns, etc"
   ]
  },
  {
   "cell_type": "code",
   "execution_count": 111,
   "metadata": {},
   "outputs": [
    {
     "name": "stdout",
     "output_type": "stream",
     "text": [
      "[[ 1  2  3  4  5  6  7]\n",
      " [ 8  9 10 11 12 13 14]]\n",
      "(2, 7)\n"
     ]
    }
   ],
   "source": [
    "c = np.array([[1,2,3,4,5,6,7], [8,9,10,11,12,13,14]])\n",
    "print(c)\n",
    "print(c.shape)"
   ]
  },
  {
   "cell_type": "code",
   "execution_count": 112,
   "metadata": {},
   "outputs": [
    {
     "name": "stdout",
     "output_type": "stream",
     "text": [
      "13\n",
      "[1 2 3 4 5 6 7]\n",
      "[2 9]\n",
      "[2 4 6]\n",
      "[[ 1  2  3  4  5  6  7]\n",
      " [ 8  9 10 11 12 20 14]]\n",
      "[[ 1  2  5  4  5  6  7]\n",
      " [ 8  9  5 11 12 20 14]]\n"
     ]
    }
   ],
   "source": [
    "# Get a specific element [r, c]\n",
    "print(c[1,5])\n",
    "\n",
    "# Get a specific row\n",
    "print(c[0,:])\n",
    "\n",
    "# Get a specific column\n",
    "print(c[:,1])\n",
    "\n",
    "# Getting a little more fancy[Starindex:endindex:stepsize]\n",
    "print(c[0,1:6:2])\n",
    "\n",
    "# Change value\n",
    "c[1,5] = 20\n",
    "print(c)\n",
    "\n",
    "c[:,2] = 5\n",
    "print(c)"
   ]
  },
  {
   "cell_type": "markdown",
   "metadata": {},
   "source": [
    "# 3-D example"
   ]
  },
  {
   "cell_type": "code",
   "execution_count": 113,
   "metadata": {},
   "outputs": [
    {
     "name": "stdout",
     "output_type": "stream",
     "text": [
      "[[[1 2]\n",
      "  [3 4]]\n",
      "\n",
      " [[5 6]\n",
      "  [7 8]]]\n",
      "4\n",
      "[[9 9]\n",
      " [8 8]]\n"
     ]
    }
   ],
   "source": [
    "d = np.array([[[1,2],[3,4]], [[5,6], [7,8]]])\n",
    "print(d)\n",
    "\n",
    "# Get specific element(work outside in)\n",
    "print(d[0,1,1])\n",
    "\n",
    "# replace\n",
    "d[:,1,:] = [[9,9],[8,8]]\n",
    "print(d[:,1,:])"
   ]
  },
  {
   "cell_type": "markdown",
   "metadata": {},
   "source": [
    "# Initializing Different Types of Arrays"
   ]
  },
  {
   "cell_type": "code",
   "execution_count": 114,
   "metadata": {},
   "outputs": [
    {
     "name": "stdout",
     "output_type": "stream",
     "text": [
      "[[0. 0. 0.]\n",
      " [0. 0. 0.]]\n",
      "[[[1 1]\n",
      "  [1 1]]\n",
      "\n",
      " [[1 1]\n",
      "  [1 1]]\n",
      "\n",
      " [[1 1]\n",
      "  [1 1]]\n",
      "\n",
      " [[1 1]\n",
      "  [1 1]]]\n",
      "[[99 99]\n",
      " [99 99]]\n",
      "[[4. 4. 4.]\n",
      " [4. 4. 4.]]\n",
      "[[[0.39454457 0.35014774 0.77675947]\n",
      "  [0.35063587 0.15402982 0.83446354]]\n",
      "\n",
      " [[0.02819946 0.23047527 0.48617363]\n",
      "  [0.04466469 0.53278247 0.67995809]]\n",
      "\n",
      " [[0.28597198 0.8340969  0.56537557]\n",
      "  [0.8869784  0.27026602 0.10496383]]\n",
      "\n",
      " [[0.6122192  0.57937914 0.10619427]\n",
      "  [0.16013051 0.61094076 0.96200905]]]\n",
      "[0.10471646 0.96825135 0.21315855]\n",
      "[[3 5 2]\n",
      " [6 3 5]\n",
      " [2 2 3]]\n",
      "[[1. 0. 0. 0. 0.]\n",
      " [0. 1. 0. 0. 0.]\n",
      " [0. 0. 1. 0. 0.]\n",
      " [0. 0. 0. 1. 0.]\n",
      " [0. 0. 0. 0. 1.]]\n",
      "[[1 2 3]\n",
      " [1 2 3]\n",
      " [1 2 3]]\n",
      "[[1. 1. 1. 1. 1.]\n",
      " [1. 1. 1. 1. 1.]\n",
      " [1. 1. 1. 1. 1.]\n",
      " [1. 1. 1. 1. 1.]\n",
      " [1. 1. 1. 1. 1.]]\n",
      "[[0. 0. 0.]\n",
      " [0. 9. 0.]\n",
      " [0. 0. 0.]]\n",
      "[[1. 1. 1. 1. 1.]\n",
      " [1. 0. 0. 0. 1.]\n",
      " [1. 0. 9. 0. 1.]\n",
      " [1. 0. 0. 0. 1.]\n",
      " [1. 1. 1. 1. 1.]]\n"
     ]
    }
   ],
   "source": [
    "# ALL 0s matirx\n",
    "print(np.zeros((2,3)))\n",
    "\n",
    "#All 1s matrix\n",
    "print(np.ones((4,2,2), dtype = \"int32\"))\n",
    "\n",
    "# any other number\n",
    "print(np.full((2,2), 99))\n",
    "print(np.full_like(b, 4))\n",
    "\n",
    "# Random decimal numbers\n",
    "print(np.random.rand(4,2,3))\n",
    "print(np.random.random_sample(a.shape))\n",
    "print(np.random.randint(2,7, size=(3,3)))\n",
    "\n",
    "# The identity matirix\n",
    "print(np.identity(5))\n",
    "\n",
    "# repeat an array\n",
    "arr = np.array([[1,2,3]])\n",
    "r1 = np.repeat(arr, 3, axis = 0)\n",
    "print(r1)\n",
    "\n",
    "# quiz\n",
    "\n",
    "output = np.ones((5,5))\n",
    "print(output)\n",
    "z = np.zeros((3,3))\n",
    "z[1,1] = 9\n",
    "print(z)\n",
    "output[1:4,1:4] = z\n",
    "print(output)\n",
    "\n"
   ]
  },
  {
   "cell_type": "markdown",
   "metadata": {},
   "source": [
    "#### Be careful when copying arrays!!!"
   ]
  },
  {
   "cell_type": "code",
   "execution_count": 115,
   "metadata": {},
   "outputs": [
    {
     "name": "stdout",
     "output_type": "stream",
     "text": [
      "[100   2   3]\n",
      "[100   2   3]\n",
      "[1 2 3]\n",
      "[100   2   3]\n"
     ]
    }
   ],
   "source": [
    "# contents of e is changed\n",
    "e = np.array([1,2,3])\n",
    "f = e \n",
    "f[0] = 100\n",
    "print(f)\n",
    "print(e)\n",
    "# contents of g is not changed\n",
    "g = np.array([1,2,3])\n",
    "h = g.copy() \n",
    "h[0] = 100\n",
    "print(g)\n",
    "print(h)\n",
    "\n"
   ]
  },
  {
   "cell_type": "markdown",
   "metadata": {},
   "source": [
    "# Mathmatics"
   ]
  },
  {
   "cell_type": "code",
   "execution_count": 116,
   "metadata": {},
   "outputs": [
    {
     "name": "stdout",
     "output_type": "stream",
     "text": [
      "[1 2 3 4]\n",
      "[3 4 5]\n",
      "[-1  0  1]\n",
      "[2 4 6]\n",
      "[0.5 1.  1.5]\n",
      "[ 0.54030231 -0.41614684 -0.9899925 ]\n"
     ]
    }
   ],
   "source": [
    "i = np.array([1,2,3,4])\n",
    "print(i)\n",
    "print(a+2)\n",
    "print(a-2)\n",
    "print(a*2)\n",
    "print(a/2)\n",
    "\n",
    "print(np.cos(a))\n"
   ]
  },
  {
   "cell_type": "markdown",
   "metadata": {},
   "source": [
    "#### Linear Algebra"
   ]
  },
  {
   "cell_type": "code",
   "execution_count": 117,
   "metadata": {},
   "outputs": [
    {
     "name": "stdout",
     "output_type": "stream",
     "text": [
      "[[1. 1. 1.]\n",
      " [1. 1. 1.]]\n",
      "[[2 2]\n",
      " [2 2]\n",
      " [2 2]]\n",
      "[[6. 6.]\n",
      " [6. 6.]]\n"
     ]
    }
   ],
   "source": [
    "j = np.ones((2,3))\n",
    "k = np.full((3,2),2)\n",
    "\n",
    "print(j)\n",
    "print(k)\n",
    "\n",
    "print(np.matmul(j,k))"
   ]
  },
  {
   "cell_type": "code",
   "execution_count": null,
   "metadata": {},
   "outputs": [],
   "source": []
  }
 ],
 "metadata": {
  "kernelspec": {
   "display_name": "Python 3.9.12 ('myenv')",
   "language": "python",
   "name": "python3"
  },
  "language_info": {
   "codemirror_mode": {
    "name": "ipython",
    "version": 3
   },
   "file_extension": ".py",
   "mimetype": "text/x-python",
   "name": "python",
   "nbconvert_exporter": "python",
   "pygments_lexer": "ipython3",
   "version": "3.9.12"
  },
  "orig_nbformat": 4,
  "vscode": {
   "interpreter": {
    "hash": "d0cba66a251407c4fd3274a4451f5ba531487019d435e911d200eb38a157ba3e"
   }
  }
 },
 "nbformat": 4,
 "nbformat_minor": 2
}
