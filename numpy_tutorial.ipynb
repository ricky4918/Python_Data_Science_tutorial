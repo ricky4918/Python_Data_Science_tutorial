{
 "cells": [
  {
   "cell_type": "markdown",
   "metadata": {},
   "source": [
    "# Basic Code"
   ]
  },
  {
   "cell_type": "code",
   "execution_count": 2,
   "metadata": {},
   "outputs": [],
   "source": [
    "import numpy as np"
   ]
  },
  {
   "cell_type": "code",
   "execution_count": 3,
   "metadata": {},
   "outputs": [
    {
     "name": "stdout",
     "output_type": "stream",
     "text": [
      "[1 2 3]\n",
      "[[9. 8. 7.]\n",
      " [6. 5. 4.]]\n"
     ]
    }
   ],
   "source": [
    "# Created 1 and 2 Dimentional Array\n",
    "a = np.array([1,2,3])\n",
    "b = np.array([[9.0,8.0,7.0], [6.0,5.0,4.0]])\n",
    "print(a)\n",
    "print(b)\n"
   ]
  },
  {
   "cell_type": "code",
   "execution_count": 4,
   "metadata": {},
   "outputs": [
    {
     "name": "stdout",
     "output_type": "stream",
     "text": [
      "1 2\n",
      "(2, 3)\n",
      "int32\n",
      "float64\n",
      "4byte\n",
      "8byte\n",
      "12 and 12\n"
     ]
    }
   ],
   "source": [
    "# Get Dimension\n",
    "print(a.ndim, b.ndim)\n",
    "\n",
    "# Get Shape\n",
    "print(b.shape)\n",
    "\n",
    "# Get Type\n",
    "print(a.dtype)\n",
    "print(b.dtype)\n",
    "\n",
    "# Get Size\n",
    "print(\"{}byte\".format(a.itemsize))\n",
    "print(\"{}byte\".format(b.itemsize))\n",
    "\n",
    "# Get total Size\n",
    "print(\"{} and {}\".format(a.size*a.itemsize, a.nbytes))"
   ]
  },
  {
   "cell_type": "markdown",
   "metadata": {},
   "source": [
    "# Accessing/Changing Specific elements, rows, columns, etc"
   ]
  },
  {
   "cell_type": "code",
   "execution_count": 5,
   "metadata": {},
   "outputs": [
    {
     "name": "stdout",
     "output_type": "stream",
     "text": [
      "[[ 1  2  3  4  5  6  7]\n",
      " [ 8  9 10 11 12 13 14]]\n",
      "(2, 7)\n"
     ]
    }
   ],
   "source": [
    "c = np.array([[1,2,3,4,5,6,7], [8,9,10,11,12,13,14]])\n",
    "print(c)\n",
    "print(c.shape)"
   ]
  },
  {
   "cell_type": "code",
   "execution_count": 6,
   "metadata": {},
   "outputs": [
    {
     "name": "stdout",
     "output_type": "stream",
     "text": [
      "13\n",
      "[1 2 3 4 5 6 7]\n",
      "[2 9]\n",
      "[2 4 6]\n",
      "[[ 1  2  3  4  5  6  7]\n",
      " [ 8  9 10 11 12 20 14]]\n",
      "[[ 1  2  5  4  5  6  7]\n",
      " [ 8  9  5 11 12 20 14]]\n"
     ]
    }
   ],
   "source": [
    "# Get a specific element [r, c]\n",
    "print(c[1,5])\n",
    "\n",
    "# Get a specific row\n",
    "print(c[0,:])\n",
    "\n",
    "# Get a specific column\n",
    "print(c[:,1])\n",
    "\n",
    "# Getting a little more fancy[Starindex:endindex:stepsize]\n",
    "print(c[0,1:6:2])\n",
    "\n",
    "# Change value\n",
    "c[1,5] = 20\n",
    "print(c)\n",
    "\n",
    "c[:,2] = 5\n",
    "print(c)"
   ]
  },
  {
   "cell_type": "markdown",
   "metadata": {},
   "source": [
    "# 3-D example"
   ]
  },
  {
   "cell_type": "code",
   "execution_count": 7,
   "metadata": {},
   "outputs": [
    {
     "name": "stdout",
     "output_type": "stream",
     "text": [
      "[[[1 2]\n",
      "  [3 4]]\n",
      "\n",
      " [[5 6]\n",
      "  [7 8]]]\n",
      "4\n",
      "[[9 9]\n",
      " [8 8]]\n"
     ]
    }
   ],
   "source": [
    "d = np.array([[[1,2],[3,4]], [[5,6], [7,8]]])\n",
    "print(d)\n",
    "\n",
    "# Get specific element(work outside in)\n",
    "print(d[0,1,1])\n",
    "\n",
    "# replace\n",
    "d[:,1,:] = [[9,9],[8,8]]\n",
    "print(d[:,1,:])"
   ]
  },
  {
   "cell_type": "markdown",
   "metadata": {},
   "source": [
    "# Initializing Different Types of Arrays"
   ]
  },
  {
   "cell_type": "code",
   "execution_count": 8,
   "metadata": {},
   "outputs": [
    {
     "name": "stdout",
     "output_type": "stream",
     "text": [
      "[[0. 0. 0.]\n",
      " [0. 0. 0.]]\n",
      "[[[1 1]\n",
      "  [1 1]]\n",
      "\n",
      " [[1 1]\n",
      "  [1 1]]\n",
      "\n",
      " [[1 1]\n",
      "  [1 1]]\n",
      "\n",
      " [[1 1]\n",
      "  [1 1]]]\n",
      "[[99 99]\n",
      " [99 99]]\n",
      "[[4. 4. 4.]\n",
      " [4. 4. 4.]]\n",
      "[[[0.18920673 0.73194093 0.06060167]\n",
      "  [0.3870808  0.99684914 0.11290901]]\n",
      "\n",
      " [[0.9735059  0.37448671 0.03463227]\n",
      "  [0.11325576 0.80079407 0.29389814]]\n",
      "\n",
      " [[0.43388957 0.4274427  0.43287362]\n",
      "  [0.66804446 0.82682971 0.45469483]]\n",
      "\n",
      " [[0.99805968 0.06152188 0.82397954]\n",
      "  [0.44009244 0.8747555  0.7574278 ]]]\n",
      "[0.89281431 0.38018995 0.01910197]\n",
      "[[2 5 2]\n",
      " [4 5 4]\n",
      " [4 3 2]]\n",
      "[[1. 0. 0. 0. 0.]\n",
      " [0. 1. 0. 0. 0.]\n",
      " [0. 0. 1. 0. 0.]\n",
      " [0. 0. 0. 1. 0.]\n",
      " [0. 0. 0. 0. 1.]]\n",
      "[[1 2 3]\n",
      " [1 2 3]\n",
      " [1 2 3]]\n",
      "[[1. 1. 1. 1. 1.]\n",
      " [1. 1. 1. 1. 1.]\n",
      " [1. 1. 1. 1. 1.]\n",
      " [1. 1. 1. 1. 1.]\n",
      " [1. 1. 1. 1. 1.]]\n",
      "[[0. 0. 0.]\n",
      " [0. 9. 0.]\n",
      " [0. 0. 0.]]\n",
      "[[1. 1. 1. 1. 1.]\n",
      " [1. 0. 0. 0. 1.]\n",
      " [1. 0. 9. 0. 1.]\n",
      " [1. 0. 0. 0. 1.]\n",
      " [1. 1. 1. 1. 1.]]\n"
     ]
    }
   ],
   "source": [
    "# ALL 0s matirx\n",
    "print(np.zeros((2,3)))\n",
    "\n",
    "#All 1s matrix\n",
    "print(np.ones((4,2,2), dtype = \"int32\"))\n",
    "\n",
    "# any other number\n",
    "print(np.full((2,2), 99))\n",
    "print(np.full_like(b, 4))\n",
    "\n",
    "# Random decimal numbers\n",
    "print(np.random.rand(4,2,3))\n",
    "print(np.random.random_sample(a.shape))\n",
    "print(np.random.randint(2,7, size=(3,3)))\n",
    "\n",
    "# The identity matirix\n",
    "print(np.identity(5))\n",
    "\n",
    "# repeat an array\n",
    "arr = np.array([[1,2,3]])\n",
    "r1 = np.repeat(arr, 3, axis = 0)\n",
    "print(r1)\n",
    "\n",
    "# quiz\n",
    "\n",
    "output = np.ones((5,5))\n",
    "print(output)\n",
    "z = np.zeros((3,3))\n",
    "z[1,1] = 9\n",
    "print(z)\n",
    "output[1:4,1:4] = z\n",
    "print(output)\n",
    "\n"
   ]
  },
  {
   "cell_type": "markdown",
   "metadata": {},
   "source": [
    "#### Be careful when copying arrays!!!"
   ]
  },
  {
   "cell_type": "code",
   "execution_count": 9,
   "metadata": {},
   "outputs": [
    {
     "name": "stdout",
     "output_type": "stream",
     "text": [
      "[100   2   3]\n",
      "[100   2   3]\n",
      "[1 2 3]\n",
      "[100   2   3]\n"
     ]
    }
   ],
   "source": [
    "# contents of e is changed\n",
    "e = np.array([1,2,3])\n",
    "f = e \n",
    "f[0] = 100\n",
    "print(f)\n",
    "print(e)\n",
    "# contents of g is not changed\n",
    "g = np.array([1,2,3])\n",
    "h = g.copy() \n",
    "h[0] = 100\n",
    "print(g)\n",
    "print(h)\n",
    "\n"
   ]
  },
  {
   "cell_type": "markdown",
   "metadata": {},
   "source": [
    "# Mathmatics"
   ]
  },
  {
   "cell_type": "code",
   "execution_count": 10,
   "metadata": {},
   "outputs": [
    {
     "name": "stdout",
     "output_type": "stream",
     "text": [
      "[1 2 3 4]\n",
      "[3 4 5]\n",
      "[-1  0  1]\n",
      "[2 4 6]\n",
      "[0.5 1.  1.5]\n",
      "[ 0.54030231 -0.41614684 -0.9899925 ]\n"
     ]
    }
   ],
   "source": [
    "i = np.array([1,2,3,4])\n",
    "print(i)\n",
    "print(a+2)\n",
    "print(a-2)\n",
    "print(a*2)\n",
    "print(a/2)\n",
    "\n",
    "print(np.cos(a))\n"
   ]
  },
  {
   "cell_type": "markdown",
   "metadata": {},
   "source": [
    "#### Linear Algebra"
   ]
  },
  {
   "cell_type": "code",
   "execution_count": 11,
   "metadata": {},
   "outputs": [
    {
     "name": "stdout",
     "output_type": "stream",
     "text": [
      "[[1. 1. 1.]\n",
      " [1. 1. 1.]]\n",
      "[[2 2]\n",
      " [2 2]\n",
      " [2 2]]\n",
      "[[6. 6.]\n",
      " [6. 6.]]\n",
      "[[1. 0. 0.]\n",
      " [0. 1. 0.]\n",
      " [0. 0. 1.]]\n",
      "1.0\n"
     ]
    }
   ],
   "source": [
    "# product of  two arrays\n",
    "j = np.ones((2,3))\n",
    "k = np.full((3,2),2)\n",
    "print(j)\n",
    "print(k)\n",
    "print(np.matmul(j,k))\n",
    "\n",
    "# Find the determinant\n",
    "\n",
    "l = np.identity(3)\n",
    "print(l)\n",
    "print(np.linalg.det(l))\n",
    "\n",
    "\n"
   ]
  },
  {
   "cell_type": "markdown",
   "metadata": {},
   "source": [
    "# Statistics"
   ]
  },
  {
   "cell_type": "code",
   "execution_count": 12,
   "metadata": {},
   "outputs": [
    {
     "name": "stdout",
     "output_type": "stream",
     "text": [
      "[[1 2 3]\n",
      " [4 5 6]]\n",
      "[1 4]\n",
      "6\n",
      "[ 6 15]\n"
     ]
    }
   ],
   "source": [
    "stats = np.array([[1,2,3],[4,5,6]])\n",
    "print(stats)\n",
    "\n",
    "\n",
    "# min max\n",
    "print(np.min(stats,axis=1))\n",
    "print(np.max(stats))\n",
    "\n",
    "# sum\n",
    "print(np.sum(stats, axis = 1))"
   ]
  },
  {
   "cell_type": "markdown",
   "metadata": {},
   "source": [
    "# Reorganizing Arrays"
   ]
  },
  {
   "cell_type": "code",
   "execution_count": 13,
   "metadata": {},
   "outputs": [
    {
     "name": "stdout",
     "output_type": "stream",
     "text": [
      "[[1 2 3 4]\n",
      " [5 6 7 8]]\n",
      "[[1]\n",
      " [2]\n",
      " [3]\n",
      " [4]\n",
      " [5]\n",
      " [6]\n",
      " [7]\n",
      " [8]]\n",
      "[[1 2 3 4]\n",
      " [5 6 7 8]]\n",
      "[1 2 3 4 5 6 7 8]\n"
     ]
    }
   ],
   "source": [
    "before = np.array([[1,2,3,4], [5,6,7,8]])\n",
    "print(before)\n",
    "\n",
    "after = before.reshape((8,1))\n",
    "print(after)\n",
    "\n",
    "# vertically & horizontally stacking vectors\n",
    "\n",
    "v1 = np.array([1,2,3,4])\n",
    "v2 = np.array([5,6,7,8])\n",
    "\n",
    "print(np.vstack([v1,v2]))\n",
    "print(np.hstack([v1,v2]))\n"
   ]
  },
  {
   "cell_type": "markdown",
   "metadata": {},
   "source": [
    "# Miscellaneous"
   ]
  },
  {
   "cell_type": "code",
   "execution_count": 19,
   "metadata": {},
   "outputs": [
    {
     "name": "stdout",
     "output_type": "stream",
     "text": [
      "[[  1  13  21  11 196  75   4   3  34   6   7   8   0   1   2   3   4   5]\n",
      " [  3  42  12  33 766   4  55   6   5   3   4   5   6   7   8  11  12  15]\n",
      " [  1   2  33  11 999  11   2   1  78   0   1   2   9   8   7   1  76  88]]\n"
     ]
    }
   ],
   "source": [
    "# load data from file\n",
    "filedata = np.genfromtxt('data.txt', delimiter=',')\n",
    "filedata = filedata.astype('int32')\n",
    "print(filedata)"
   ]
  },
  {
   "cell_type": "markdown",
   "metadata": {},
   "source": [
    "#### Boolean Masking and Advanced Indexing"
   ]
  },
  {
   "cell_type": "code",
   "execution_count": 34,
   "metadata": {},
   "outputs": [
    {
     "name": "stdout",
     "output_type": "stream",
     "text": [
      "[[False False False False  True  True False False False False False False\n",
      "  False False False False False False]\n",
      " [False False False False  True False  True False False False False False\n",
      "  False False False False False False]\n",
      " [False False False False  True False False False  True False False False\n",
      "  False False False False  True  True]]\n",
      "\n",
      "\n",
      "[196  75 766  55 999  78  76  88]\n",
      "\n",
      "\n",
      "[False False False False  True  True  True False  True False False False\n",
      " False False False False  True  True]\n",
      "\n",
      "\n",
      "[False False False False  True False False False False False False False\n",
      " False False False False False False]\n",
      "\n",
      "\n",
      "[[False False False False False  True False False False False False False\n",
      "  False False False False False False]\n",
      " [False False False False False False  True False False False False False\n",
      "  False False False False False False]\n",
      " [False False False False False False False False  True False False False\n",
      "  False False False False  True  True]]\n",
      "\n",
      "\n"
     ]
    }
   ],
   "source": [
    "## you can index with a list in Numpy\n",
    "m = np.array([1,2,3,4,5,6,7,8,9])\n",
    "m[[1,2,8]]\n",
    "\n",
    "\n",
    "print(filedata > 50)\n",
    "print(\"\\n\")\n",
    "print(filedata[filedata >50])\n",
    "print(\"\\n\")\n",
    "print(np.any(filedata > 50, axis = 0))\n",
    "print(\"\\n\")\n",
    "print(np.all(filedata > 50, axis = 0))\n",
    "print(\"\\n\")\n",
    "print((filedata > 50) & (filedata < 100))\n"
   ]
  },
  {
   "cell_type": "code",
   "execution_count": 22,
   "metadata": {},
   "outputs": [
    {
     "data": {
      "text/plain": [
       "array([2, 3, 9])"
      ]
     },
     "execution_count": 22,
     "metadata": {},
     "output_type": "execute_result"
    }
   ],
   "source": []
  },
  {
   "cell_type": "code",
   "execution_count": null,
   "metadata": {},
   "outputs": [],
   "source": []
  }
 ],
 "metadata": {
  "kernelspec": {
   "display_name": "Python 3.9.12 ('myenv')",
   "language": "python",
   "name": "python3"
  },
  "language_info": {
   "codemirror_mode": {
    "name": "ipython",
    "version": 3
   },
   "file_extension": ".py",
   "mimetype": "text/x-python",
   "name": "python",
   "nbconvert_exporter": "python",
   "pygments_lexer": "ipython3",
   "version": "3.9.12"
  },
  "orig_nbformat": 4,
  "vscode": {
   "interpreter": {
    "hash": "d0cba66a251407c4fd3274a4451f5ba531487019d435e911d200eb38a157ba3e"
   }
  }
 },
 "nbformat": 4,
 "nbformat_minor": 2
}
