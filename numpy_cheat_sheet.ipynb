{
 "cells": [
  {
   "cell_type": "markdown",
   "metadata": {},
   "source": [
    "# Numpy Cheat Sheet\n",
    "\n",
    "* numpy.array(object, dtype=None, *, copy=True, order='K', subok=False, ndmin=0, like=None)\n",
    "    * subok: bool, optional\n",
    "        * If True, then sub-classes will be passed-through, otherwise the returned array will be forced to be a base-class array (default).\n",
    "\n",
    "    * ndmin: int, optional\n",
    "        * Specifies the minimum number of dimensions that the resulting array should have. Ones will be prepended to the shape as needed to meet this requirement.\n",
    "\n",
    "##### Fill with 0,1 and any numbers\n",
    "* numpy.zeros(shape, dtype=float, order='C', *, like=None)\n",
    "* numpy.zeros_like(a, dtype=None, order='K', subok=True, shape=None)\n",
    "\n",
    "* numpy.ones(shape, dtype=None, order='C', *, like=None)\n",
    "* numpy.ones_like(a, dtype=None, order='K', subok=True, shape=None\n",
    "\n",
    "* numpy.full(shape, fill_value, dtype=None, order='C', *, like=None)\n",
    "* numpy.full_like(a, fill_value, dtype=None, order='K', subok=True, shape=None)\n",
    "\n",
    "##### Fill with random number\n",
    "* numpy.random.rand(d0, d1, ..., dn) : r,c\n",
    "* numpy.random.random_sample(size=None)\n",
    "* numpy.random.randint(low, high=None, size=None, dtype='l')\n",
    "\n",
    "##### Identity matrix\n",
    "* numpy.identity(n, dtype=None, *, like=None)\n",
    "\n",
    "##### Product of two arrays\n",
    "* numpy.matmul(x1, x2, /, out=None, *, casting='same_kind', order='K', dtype=None, subok=True[, signature, extobj, axes, axis]) = <ufunc 'matmul'>\n",
    "\n",
    "##### Linear Algebra(numpy.linalg)\n",
    "* https://numpy.org/doc/stable/reference/routines.linalg.html\n",
    "\n",
    "\n",
    "##### Statistics\n",
    "* numpy.sum(a, axis=None, dtype=None, out=None, keepdims=<no value>, initial=<no value>, where=<no value>)\n",
    "* numpy.min(a, axis=None)\n",
    "* numpy.max(a, axis=None)\n",
    "\n",
    "##### Stack arrays in sequence vertically (row wise).\n",
    "* numpy.vstack(tup)\n",
    "    * tup: sequence of ndarrays\n",
    "        * The arrays must have the same shape along all but the second axis, except 1-D arrays which can be any length.\n",
    "* numpy.hstack(tup)\n",
    "    * tup: sequence of ndarrays\n",
    "        * The arrays must have the same shape along all but the second axis, except 1-D arrays which can be any length.\n",
    "\n",
    "##### Test whether any or all  array element along a given axis evaluates to True.\n",
    "\n",
    "* numpy.any(a, axis=None, out=None, keepdims=<no value>, *, where=<no value>)\n",
    "* numpy.all(a, axis=None, out=None, keepdims=<no value>, *, where=<no value>)"
   ]
  },
  {
   "cell_type": "markdown",
   "metadata": {},
   "source": []
  }
 ],
 "metadata": {
  "kernelspec": {
   "display_name": "Python 3.9.12 ('myenv')",
   "language": "python",
   "name": "python3"
  },
  "language_info": {
   "name": "python",
   "version": "3.9.12"
  },
  "orig_nbformat": 4,
  "vscode": {
   "interpreter": {
    "hash": "d0cba66a251407c4fd3274a4451f5ba531487019d435e911d200eb38a157ba3e"
   }
  }
 },
 "nbformat": 4,
 "nbformat_minor": 2
}
