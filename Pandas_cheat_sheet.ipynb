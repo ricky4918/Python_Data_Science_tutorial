{
 "cells": [
  {
   "cell_type": "markdown",
   "metadata": {},
   "source": [
    "# Pandas Cheet Sheet\n",
    "\n",
    "##### Load Data from csv & excel file\n",
    "\n",
    "* pandas.read_csv(filepath_or_buffer, sep=NoDefault.no_default, delimiter=None, header='infer', names=NoDefault.no_default, index_col=None, usecols=None, squeeze=None, prefix=NoDefault.no_default, mangle_dupe_cols=True, dtype=None, engine=None, converters=None, true_values=None, false_values=None, skipinitialspace=False, skiprows=None, skipfooter=0, nrows=None, na_values=None, keep_default_na=True, na_filter=True, verbose=False, skip_blank_lines=True, parse_dates=None, infer_datetime_format=False, keep_date_col=False, date_parser=None, dayfirst=False, cache_dates=True, iterator=False, chunksize=None, compression='infer', thousands=None, decimal='.', lineterminator=None, quotechar='\"', quoting=0, doublequote=True, escapechar=None, comment=None, encoding=None, encoding_errors='strict', dialect=None, error_bad_lines=None, warn_bad_lines=None, on_bad_lines=None, delim_whitespace=False, low_memory=True, memory_map=False, float_precision=None, storage_options=None)\n",
    "\n",
    "* pandas.read_excel(io, sheet_name=0, header=0, names=None, index_col=None, usecols=None, squeeze=None, dtype=None, engine=None, converters=None, true_values=None, false_values=None, skiprows=None, nrows=None, na_values=None, keep_default_na=True, na_filter=True, verbose=False, parse_dates=False, date_parser=None, thousands=None, decimal='.', comment=None, skipfooter=0, convert_float=None, mangle_dupe_cols=True, storage_options=None)\n",
    "\n",
    "##### Write object to a comma-separated values (csv & exel) file.\n",
    "* DataFrame.to_csv(path_or_buf=None, sep=',', na_rep='', float_format=None, columns=None, header=True, index=True, index_label=None, mode='w', encoding=None, compression='infer', quoting=None, quotechar='\"', line_terminator=None, chunksize=None, date_format=None, doublequote=True, escapechar=None, decimal='.', errors='strict', storage_options=None)\n",
    "\n",
    "DataFrame.to_excel(excel_writer, sheet_name='Sheet1', na_rep='', float_format=None, columns=None, header=True, index=True, index_label=None, startrow=0, startcol=0, engine=None, merge_cells=True, encoding=None, inf_rep='inf', verbose=True, freeze_panes=None, storage_options=None)\n",
    "\n",
    "##### Generate descriptive statistics.\n",
    "* DataFrame.describe(percentiles=None, include=None, exclude=None, datetime_is_numeric=False)\n",
    "\n",
    "\n",
    "##### Return the first & last n rows.\n",
    "* DataFrame.head(n=5)\n",
    "* DataFrame.tail(n=5)\n",
    "\n",
    "##### Reading data from Pandas\n",
    "\n",
    "* DataFrame.columns :  The column labels of the DataFrame.\n",
    "* DataFrame.iterrows(): iterate over DataFrame rows as (index, Series) pairs.\n",
    "* DataFrame.loc : Access a group of rows and columns by label(s) or a boolean array, .loc[] is primarily label based, but may also be used with a boolean array.\n",
    "    * Filtering : df.loc[df['Type 1'] == 'Grass'](with column name)\n",
    "    * Filtering : df.loc[~df['Name'].str.contains('Mega')](with str in column)\n",
    "\n",
    "###### Sorting/Describing Data\n",
    "\n",
    "* DataFrame.sort_values(by, axis=0, ascending=True, inplace=False, kind='quicksort', na_position='last', ignore_index=False, key=None)\n",
    "    * by: str or list of str : Name or list of names to sort by.\n",
    "\n",
    "##### Drop specified labels from rows or columns.\n",
    "* DataFrame.drop(labels=None, axis=0, index=None, columns=None, level=None, inplace=False, errors='raise')\n",
    "\n",
    "##### Group DataFrame using a mapper or by a Series of columns.\n",
    "* DataFrame.groupby(by=None, axis=0, level=None, as_index=True, sort=True, group_keys=True, squeeze=NoDefault.no_default, observed=False, dropna=True)"
   ]
  },
  {
   "cell_type": "markdown",
   "metadata": {},
   "source": []
  }
 ],
 "metadata": {
  "kernelspec": {
   "display_name": "Python 3.9.12 ('myenv')",
   "language": "python",
   "name": "python3"
  },
  "language_info": {
   "name": "python",
   "version": "3.9.12"
  },
  "orig_nbformat": 4,
  "vscode": {
   "interpreter": {
    "hash": "d0cba66a251407c4fd3274a4451f5ba531487019d435e911d200eb38a157ba3e"
   }
  }
 },
 "nbformat": 4,
 "nbformat_minor": 2
}
