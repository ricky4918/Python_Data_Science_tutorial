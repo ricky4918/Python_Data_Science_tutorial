{
 "cells": [
  {
   "cell_type": "markdown",
   "metadata": {},
   "source": [
    "# MatPlotLib Cheet Sheet\n",
    "##### Set a title for the Axes.\n",
    "* matplotlib.pyplot.title(label, fontdict=None, loc=None, pad=None, *, y=None, **kwargs)\n",
    "\n",
    "##### Create a new figure, or activate an existing figure.\n",
    "* matplotlib.pyplot.figure(num=None, figsize=None, dpi=None, facecolor=None, edgecolor=None, frameon=True, FigureClass=<class 'matplotlib.figure.Figure'>, clear=False, **kwargs)\n",
    "\n",
    "##### Plot y versus x as lines and/or markers.\n",
    "* matplotlib.pyplot.plot(*args, scalex=True, scaley=True, data=None, **kwargs)\n",
    "\n",
    "##### Make a bar plot.\n",
    "* matplotlib.pyplot.bar(x, height, width=0.8, bottom=None, *, align='center', data=None, **kwargs)\n",
    "\n",
    "##### Set the label for the x-axis & Set the label for the y-axis.\n",
    "* matplotlib.pyplot.xlabel(xlabel, fontdict=None, labelpad=None, *, loc=None, **kwargs)\n",
    "* matplotlib.pyplot.ylabel(ylabel, fontdict=None, labelpad=None, *, loc=None, **kwargs)\n",
    "\n",
    "##### Get or set the current tick locations and labels of the y-axis & x-axis\n",
    "* matplotlib.pyplot.xticks(ticks=None, labels=None, **kwargs)\n",
    "* matplotlib.pyplot.yticks(ticks=None, labels=None, **kwargs)\n",
    "\n",
    "##### Place a legend on the Axes.\n",
    "* matplotlib.pyplot.legend(*args, **kwargs)\n",
    "\n",
    "#### Save the current figure.\n",
    "* matplotlib.pyplot.savefig(*args, **kwargs)"
   ]
  }
 ],
 "metadata": {
  "kernelspec": {
   "display_name": "Python 3.9.12 ('myenv')",
   "language": "python",
   "name": "python3"
  },
  "language_info": {
   "name": "python",
   "version": "3.9.12"
  },
  "orig_nbformat": 4,
  "vscode": {
   "interpreter": {
    "hash": "d0cba66a251407c4fd3274a4451f5ba531487019d435e911d200eb38a157ba3e"
   }
  }
 },
 "nbformat": 4,
 "nbformat_minor": 2
}
